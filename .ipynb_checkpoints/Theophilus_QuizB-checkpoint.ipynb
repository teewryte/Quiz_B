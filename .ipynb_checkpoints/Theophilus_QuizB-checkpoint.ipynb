{
 "cells": [
  {
   "cell_type": "markdown",
   "id": "fed6dec9",
   "metadata": {},
   "source": [
    "<hr>\n",
    "<font color='purple'>\n",
    "    <font size=\"+3\"><strong> \n",
    "Name: Theophilus Uwoghiren\n",
    "</font>\n",
    "</strong></font>\n",
    "\n",
    "<br>\n",
    "<hr>\n",
    "\n",
    "<font color='green'>\n",
    "    <font size=\"+3\"><strong> \n",
    "Hamoye ID: 14843ce775c1f000\n",
    " </font>\n",
    " </strong></font>\n",
    "\n",
    "<br>\n",
    "<hr>\n",
    "\n",
    "<font color='black'>\n",
    "    <font size=\"+3\">\n",
    "Track: Data Science \n",
    "</font>         \n",
    "\n",
    "<br>\n",
    "<hr>\n",
    "    \n",
    "<font size=\"+3\">\n",
    "Stage B Assessment\n",
    "</font>\n",
    "<hr>"
   ]
  },
  {
   "cell_type": "markdown",
   "id": "1cb73258",
   "metadata": {},
   "source": [
    "<br>\n",
    "<font size=\"+3\"><strong> \n",
    "Problem Description\n",
    "</strong>\n",
    "</font>\n",
    " \n",
    " \n",
    "`The dataset for the remainder of this quiz is the Appliances Energy Prediction data. The data set is at 10 min for about 4.5 months. The house temperature and humidity conditions were monitored with a ZigBee wireless sensor network. Each wireless node transmitted the temperature and humidity conditions around 3.3 min. Then, the wireless data was averaged for 10 minutes periods. The energy data was logged every 10 minutes with m-bus energy meters. Weather from the nearest airport weather station (Chievres Airport, Belgium) was downloaded from a public data set from Reliable Prognosis (rp5.ru), and merged together with the experimental data sets using the date and time column. Two random variables have been included in the data set for testing the regression models and to filter out non predictive attributes (parameters). The attribute information can be seen below.`\n",
    "\n",
    "**Attribute Information:**\n",
    "    \n",
    "**Date**, time year-month-day hour:minute:second\n",
    "\n",
    "**Appliances**, energy use in Wh\n",
    "\n",
    "**lights**, energy use of light fixtures in the house in Wh\n",
    "\n",
    "**T1**, Temperature in kitchen area, in Celsius\n",
    "\n",
    "**RH_1**, Humidity in kitchen area, in %\n",
    "\n",
    "**T2**, Temperature in living room area, in Celsius\n",
    "\n",
    "**RH_2**, Humidity in living room area, in %\n",
    "\n",
    "**T3**, Temperature in laundry room area\n",
    "\n",
    "**RH_3**, Humidity in laundry room area, in %\n",
    "\n",
    "**T4**, Temperature in office room, in Celsius\n",
    "\n",
    "**RH_4**, Humidity in office room, in %\n",
    "\n",
    "**T5**, Temperature in bathroom, in Celsius\n",
    "\n",
    "**RH_5**, Humidity in bathroom, in %\n",
    "\n",
    "**T6**, Temperature outside the building (north side), in Celsius\n",
    "\n",
    "**RH_6**, Humidity outside the building (north side), in %\n",
    "\n",
    "**T7**, Temperature in ironing room , in Celsius\n",
    "\n",
    "**RH_7**, Humidity in ironing room, in %\n",
    "\n",
    "**T8**, Temperature in teenager room 2, in Celsius\n",
    "\n",
    "**RH_8**, Humidity in teenager room 2, in %\n",
    "\n",
    "**T9**, Temperature in parents room, in Celsius\n",
    "\n",
    "**RH_9**, Humidity in parents room, in %\n",
    "\n",
    "**Tout**, Temperature outside (from Chievres weather station), in Celsius\n",
    "\n",
    "**Press_mm_hg**, Pressure (from Chievres weather station), in mm Hg\n",
    "\n",
    "**RH_out**, Humidity outside (from Chievres weather station), in %\n",
    "\n",
    "**Windspeed**, Wind speed (from Chievres weather station), in m/s\n",
    "\n",
    "**Visibility**, Visibility (from Chievres weather station), in km\n",
    "\n",
    "**Tdewpoint**, Tdewpoint (from Chievres weather station), Â °C\n",
    "\n",
    "**rv1**, Random variable 1, nondimensional\n",
    "\n",
    "**rv2**, Random variable 2, nondimensional\n",
    "`"
   ]
  },
  {
   "cell_type": "markdown",
   "id": "e24c2ae3",
   "metadata": {},
   "source": [
    "<br>\n",
    "<font size=\"+3\"><strong> \n",
    "Reading the Dataset"
   ]
  },
  {
   "cell_type": "markdown",
   "id": "4cd17cbe",
   "metadata": {},
   "source": [
    "**Creating the Pandas dataframe to view and analyze the data**"
   ]
  },
  {
   "cell_type": "code",
   "execution_count": 2,
   "id": "5d56743b",
   "metadata": {},
   "outputs": [],
   "source": [
    "#import the Pandas library\n",
    "import pandas as pd"
   ]
  },
  {
   "cell_type": "code",
   "execution_count": 40,
   "id": "6f417092",
   "metadata": {},
   "outputs": [
    {
     "name": "stdout",
     "output_type": "stream",
     "text": [
      "(19735, 29)\n"
     ]
    },
    {
     "data": {
      "text/html": [
       "<div>\n",
       "<style scoped>\n",
       "    .dataframe tbody tr th:only-of-type {\n",
       "        vertical-align: middle;\n",
       "    }\n",
       "\n",
       "    .dataframe tbody tr th {\n",
       "        vertical-align: top;\n",
       "    }\n",
       "\n",
       "    .dataframe thead th {\n",
       "        text-align: right;\n",
       "    }\n",
       "</style>\n",
       "<table border=\"1\" class=\"dataframe\">\n",
       "  <thead>\n",
       "    <tr style=\"text-align: right;\">\n",
       "      <th></th>\n",
       "      <th>date</th>\n",
       "      <th>Appliances</th>\n",
       "      <th>lights</th>\n",
       "      <th>T1</th>\n",
       "      <th>RH_1</th>\n",
       "      <th>T2</th>\n",
       "      <th>RH_2</th>\n",
       "      <th>T3</th>\n",
       "      <th>RH_3</th>\n",
       "      <th>T4</th>\n",
       "      <th>...</th>\n",
       "      <th>T9</th>\n",
       "      <th>RH_9</th>\n",
       "      <th>T_out</th>\n",
       "      <th>Press_mm_hg</th>\n",
       "      <th>RH_out</th>\n",
       "      <th>Windspeed</th>\n",
       "      <th>Visibility</th>\n",
       "      <th>Tdewpoint</th>\n",
       "      <th>rv1</th>\n",
       "      <th>rv2</th>\n",
       "    </tr>\n",
       "  </thead>\n",
       "  <tbody>\n",
       "    <tr>\n",
       "      <th>0</th>\n",
       "      <td>2016-01-11 17:00:00</td>\n",
       "      <td>60</td>\n",
       "      <td>30</td>\n",
       "      <td>19.89</td>\n",
       "      <td>47.596667</td>\n",
       "      <td>19.2</td>\n",
       "      <td>44.790000</td>\n",
       "      <td>19.79</td>\n",
       "      <td>44.730000</td>\n",
       "      <td>19.000000</td>\n",
       "      <td>...</td>\n",
       "      <td>17.033333</td>\n",
       "      <td>45.53</td>\n",
       "      <td>6.600000</td>\n",
       "      <td>733.5</td>\n",
       "      <td>92.0</td>\n",
       "      <td>7.000000</td>\n",
       "      <td>63.000000</td>\n",
       "      <td>5.3</td>\n",
       "      <td>13.275433</td>\n",
       "      <td>13.275433</td>\n",
       "    </tr>\n",
       "    <tr>\n",
       "      <th>1</th>\n",
       "      <td>2016-01-11 17:10:00</td>\n",
       "      <td>60</td>\n",
       "      <td>30</td>\n",
       "      <td>19.89</td>\n",
       "      <td>46.693333</td>\n",
       "      <td>19.2</td>\n",
       "      <td>44.722500</td>\n",
       "      <td>19.79</td>\n",
       "      <td>44.790000</td>\n",
       "      <td>19.000000</td>\n",
       "      <td>...</td>\n",
       "      <td>17.066667</td>\n",
       "      <td>45.56</td>\n",
       "      <td>6.483333</td>\n",
       "      <td>733.6</td>\n",
       "      <td>92.0</td>\n",
       "      <td>6.666667</td>\n",
       "      <td>59.166667</td>\n",
       "      <td>5.2</td>\n",
       "      <td>18.606195</td>\n",
       "      <td>18.606195</td>\n",
       "    </tr>\n",
       "    <tr>\n",
       "      <th>2</th>\n",
       "      <td>2016-01-11 17:20:00</td>\n",
       "      <td>50</td>\n",
       "      <td>30</td>\n",
       "      <td>19.89</td>\n",
       "      <td>46.300000</td>\n",
       "      <td>19.2</td>\n",
       "      <td>44.626667</td>\n",
       "      <td>19.79</td>\n",
       "      <td>44.933333</td>\n",
       "      <td>18.926667</td>\n",
       "      <td>...</td>\n",
       "      <td>17.000000</td>\n",
       "      <td>45.50</td>\n",
       "      <td>6.366667</td>\n",
       "      <td>733.7</td>\n",
       "      <td>92.0</td>\n",
       "      <td>6.333333</td>\n",
       "      <td>55.333333</td>\n",
       "      <td>5.1</td>\n",
       "      <td>28.642668</td>\n",
       "      <td>28.642668</td>\n",
       "    </tr>\n",
       "    <tr>\n",
       "      <th>3</th>\n",
       "      <td>2016-01-11 17:30:00</td>\n",
       "      <td>50</td>\n",
       "      <td>40</td>\n",
       "      <td>19.89</td>\n",
       "      <td>46.066667</td>\n",
       "      <td>19.2</td>\n",
       "      <td>44.590000</td>\n",
       "      <td>19.79</td>\n",
       "      <td>45.000000</td>\n",
       "      <td>18.890000</td>\n",
       "      <td>...</td>\n",
       "      <td>17.000000</td>\n",
       "      <td>45.40</td>\n",
       "      <td>6.250000</td>\n",
       "      <td>733.8</td>\n",
       "      <td>92.0</td>\n",
       "      <td>6.000000</td>\n",
       "      <td>51.500000</td>\n",
       "      <td>5.0</td>\n",
       "      <td>45.410389</td>\n",
       "      <td>45.410389</td>\n",
       "    </tr>\n",
       "    <tr>\n",
       "      <th>4</th>\n",
       "      <td>2016-01-11 17:40:00</td>\n",
       "      <td>60</td>\n",
       "      <td>40</td>\n",
       "      <td>19.89</td>\n",
       "      <td>46.333333</td>\n",
       "      <td>19.2</td>\n",
       "      <td>44.530000</td>\n",
       "      <td>19.79</td>\n",
       "      <td>45.000000</td>\n",
       "      <td>18.890000</td>\n",
       "      <td>...</td>\n",
       "      <td>17.000000</td>\n",
       "      <td>45.40</td>\n",
       "      <td>6.133333</td>\n",
       "      <td>733.9</td>\n",
       "      <td>92.0</td>\n",
       "      <td>5.666667</td>\n",
       "      <td>47.666667</td>\n",
       "      <td>4.9</td>\n",
       "      <td>10.084097</td>\n",
       "      <td>10.084097</td>\n",
       "    </tr>\n",
       "  </tbody>\n",
       "</table>\n",
       "<p>5 rows × 29 columns</p>\n",
       "</div>"
      ],
      "text/plain": [
       "                  date  Appliances  lights     T1       RH_1    T2       RH_2  \\\n",
       "0  2016-01-11 17:00:00          60      30  19.89  47.596667  19.2  44.790000   \n",
       "1  2016-01-11 17:10:00          60      30  19.89  46.693333  19.2  44.722500   \n",
       "2  2016-01-11 17:20:00          50      30  19.89  46.300000  19.2  44.626667   \n",
       "3  2016-01-11 17:30:00          50      40  19.89  46.066667  19.2  44.590000   \n",
       "4  2016-01-11 17:40:00          60      40  19.89  46.333333  19.2  44.530000   \n",
       "\n",
       "      T3       RH_3         T4  ...         T9   RH_9     T_out  Press_mm_hg  \\\n",
       "0  19.79  44.730000  19.000000  ...  17.033333  45.53  6.600000        733.5   \n",
       "1  19.79  44.790000  19.000000  ...  17.066667  45.56  6.483333        733.6   \n",
       "2  19.79  44.933333  18.926667  ...  17.000000  45.50  6.366667        733.7   \n",
       "3  19.79  45.000000  18.890000  ...  17.000000  45.40  6.250000        733.8   \n",
       "4  19.79  45.000000  18.890000  ...  17.000000  45.40  6.133333        733.9   \n",
       "\n",
       "   RH_out  Windspeed  Visibility  Tdewpoint        rv1        rv2  \n",
       "0    92.0   7.000000   63.000000        5.3  13.275433  13.275433  \n",
       "1    92.0   6.666667   59.166667        5.2  18.606195  18.606195  \n",
       "2    92.0   6.333333   55.333333        5.1  28.642668  28.642668  \n",
       "3    92.0   6.000000   51.500000        5.0  45.410389  45.410389  \n",
       "4    92.0   5.666667   47.666667        4.9  10.084097  10.084097  \n",
       "\n",
       "[5 rows x 29 columns]"
      ]
     },
     "execution_count": 40,
     "metadata": {},
     "output_type": "execute_result"
    }
   ],
   "source": [
    "#reading the dataset from the local file location\n",
    "energy_df = pd.read_csv('energydata_complete.csv')\n",
    "print(energy_df.shape)\n",
    "energy_df.head()"
   ]
  },
  {
   "cell_type": "markdown",
   "id": "6a80fb45",
   "metadata": {},
   "source": [
    "**Comment:** The dataset contains 19735 rows and 29 columns"
   ]
  },
  {
   "cell_type": "markdown",
   "id": "60efc7bd",
   "metadata": {},
   "source": [
    "<br>\n",
    "<font size=\"+3\"><strong> \n",
    "Cleaning the Dataset"
   ]
  },
  {
   "cell_type": "code",
   "execution_count": 4,
   "id": "a282e885",
   "metadata": {},
   "outputs": [
    {
     "name": "stdout",
     "output_type": "stream",
     "text": [
      "<class 'pandas.core.frame.DataFrame'>\n",
      "RangeIndex: 19735 entries, 0 to 19734\n",
      "Data columns (total 29 columns):\n",
      " #   Column       Non-Null Count  Dtype  \n",
      "---  ------       --------------  -----  \n",
      " 0   date         19735 non-null  object \n",
      " 1   Appliances   19735 non-null  int64  \n",
      " 2   lights       19735 non-null  int64  \n",
      " 3   T1           19735 non-null  float64\n",
      " 4   RH_1         19735 non-null  float64\n",
      " 5   T2           19735 non-null  float64\n",
      " 6   RH_2         19735 non-null  float64\n",
      " 7   T3           19735 non-null  float64\n",
      " 8   RH_3         19735 non-null  float64\n",
      " 9   T4           19735 non-null  float64\n",
      " 10  RH_4         19735 non-null  float64\n",
      " 11  T5           19735 non-null  float64\n",
      " 12  RH_5         19735 non-null  float64\n",
      " 13  T6           19735 non-null  float64\n",
      " 14  RH_6         19735 non-null  float64\n",
      " 15  T7           19735 non-null  float64\n",
      " 16  RH_7         19735 non-null  float64\n",
      " 17  T8           19735 non-null  float64\n",
      " 18  RH_8         19735 non-null  float64\n",
      " 19  T9           19735 non-null  float64\n",
      " 20  RH_9         19735 non-null  float64\n",
      " 21  T_out        19735 non-null  float64\n",
      " 22  Press_mm_hg  19735 non-null  float64\n",
      " 23  RH_out       19735 non-null  float64\n",
      " 24  Windspeed    19735 non-null  float64\n",
      " 25  Visibility   19735 non-null  float64\n",
      " 26  Tdewpoint    19735 non-null  float64\n",
      " 27  rv1          19735 non-null  float64\n",
      " 28  rv2          19735 non-null  float64\n",
      "dtypes: float64(26), int64(2), object(1)\n",
      "memory usage: 4.4+ MB\n"
     ]
    }
   ],
   "source": [
    "#Checking the Data Type for each column\n",
    "energy_df.info()"
   ]
  },
  {
   "cell_type": "markdown",
   "id": "7b487fc1",
   "metadata": {},
   "source": [
    "**Comment:** Asides the 'date' column, looks like all other columns are numerical columns "
   ]
  },
  {
   "cell_type": "code",
   "execution_count": 5,
   "id": "42007404",
   "metadata": {},
   "outputs": [
    {
     "data": {
      "text/plain": [
       "date           0\n",
       "Appliances     0\n",
       "lights         0\n",
       "T1             0\n",
       "RH_1           0\n",
       "T2             0\n",
       "RH_2           0\n",
       "T3             0\n",
       "RH_3           0\n",
       "T4             0\n",
       "RH_4           0\n",
       "T5             0\n",
       "RH_5           0\n",
       "T6             0\n",
       "RH_6           0\n",
       "T7             0\n",
       "RH_7           0\n",
       "T8             0\n",
       "RH_8           0\n",
       "T9             0\n",
       "RH_9           0\n",
       "T_out          0\n",
       "Press_mm_hg    0\n",
       "RH_out         0\n",
       "Windspeed      0\n",
       "Visibility     0\n",
       "Tdewpoint      0\n",
       "rv1            0\n",
       "rv2            0\n",
       "dtype: int64"
      ]
     },
     "execution_count": 5,
     "metadata": {},
     "output_type": "execute_result"
    }
   ],
   "source": [
    "# checking for missing values\n",
    "energy_df.isnull().sum()"
   ]
  },
  {
   "cell_type": "markdown",
   "id": "b67e505c",
   "metadata": {},
   "source": [
    "**Comment:** None of the columns contain any missing values"
   ]
  },
  {
   "cell_type": "code",
   "execution_count": 43,
   "id": "25cbc5f3",
   "metadata": {},
   "outputs": [
    {
     "data": {
      "text/plain": [
       "False"
      ]
     },
     "execution_count": 43,
     "metadata": {},
     "output_type": "execute_result"
    }
   ],
   "source": [
    "#checking for duplicate rows\n",
    "energy_df.duplicated().any()"
   ]
  },
  {
   "cell_type": "code",
   "execution_count": 7,
   "id": "d67d0a76",
   "metadata": {},
   "outputs": [
    {
     "data": {
      "text/html": [
       "<div>\n",
       "<style scoped>\n",
       "    .dataframe tbody tr th:only-of-type {\n",
       "        vertical-align: middle;\n",
       "    }\n",
       "\n",
       "    .dataframe tbody tr th {\n",
       "        vertical-align: top;\n",
       "    }\n",
       "\n",
       "    .dataframe thead th {\n",
       "        text-align: right;\n",
       "    }\n",
       "</style>\n",
       "<table border=\"1\" class=\"dataframe\">\n",
       "  <thead>\n",
       "    <tr style=\"text-align: right;\">\n",
       "      <th></th>\n",
       "      <th>Appliances</th>\n",
       "      <th>lights</th>\n",
       "      <th>T1</th>\n",
       "      <th>RH_1</th>\n",
       "      <th>T2</th>\n",
       "      <th>RH_2</th>\n",
       "      <th>T3</th>\n",
       "      <th>RH_3</th>\n",
       "      <th>T4</th>\n",
       "      <th>RH_4</th>\n",
       "      <th>...</th>\n",
       "      <th>T9</th>\n",
       "      <th>RH_9</th>\n",
       "      <th>T_out</th>\n",
       "      <th>Press_mm_hg</th>\n",
       "      <th>RH_out</th>\n",
       "      <th>Windspeed</th>\n",
       "      <th>Visibility</th>\n",
       "      <th>Tdewpoint</th>\n",
       "      <th>rv1</th>\n",
       "      <th>rv2</th>\n",
       "    </tr>\n",
       "  </thead>\n",
       "  <tbody>\n",
       "    <tr>\n",
       "      <th>count</th>\n",
       "      <td>19735.000000</td>\n",
       "      <td>19735.000000</td>\n",
       "      <td>19735.000000</td>\n",
       "      <td>19735.000000</td>\n",
       "      <td>19735.000000</td>\n",
       "      <td>19735.000000</td>\n",
       "      <td>19735.000000</td>\n",
       "      <td>19735.000000</td>\n",
       "      <td>19735.000000</td>\n",
       "      <td>19735.000000</td>\n",
       "      <td>...</td>\n",
       "      <td>19735.000000</td>\n",
       "      <td>19735.000000</td>\n",
       "      <td>19735.000000</td>\n",
       "      <td>19735.000000</td>\n",
       "      <td>19735.000000</td>\n",
       "      <td>19735.000000</td>\n",
       "      <td>19735.000000</td>\n",
       "      <td>19735.000000</td>\n",
       "      <td>19735.000000</td>\n",
       "      <td>19735.000000</td>\n",
       "    </tr>\n",
       "    <tr>\n",
       "      <th>mean</th>\n",
       "      <td>97.694958</td>\n",
       "      <td>3.801875</td>\n",
       "      <td>21.686571</td>\n",
       "      <td>40.259739</td>\n",
       "      <td>20.341219</td>\n",
       "      <td>40.420420</td>\n",
       "      <td>22.267611</td>\n",
       "      <td>39.242500</td>\n",
       "      <td>20.855335</td>\n",
       "      <td>39.026904</td>\n",
       "      <td>...</td>\n",
       "      <td>19.485828</td>\n",
       "      <td>41.552401</td>\n",
       "      <td>7.411665</td>\n",
       "      <td>755.522602</td>\n",
       "      <td>79.750418</td>\n",
       "      <td>4.039752</td>\n",
       "      <td>38.330834</td>\n",
       "      <td>3.760707</td>\n",
       "      <td>24.988033</td>\n",
       "      <td>24.988033</td>\n",
       "    </tr>\n",
       "    <tr>\n",
       "      <th>std</th>\n",
       "      <td>102.524891</td>\n",
       "      <td>7.935988</td>\n",
       "      <td>1.606066</td>\n",
       "      <td>3.979299</td>\n",
       "      <td>2.192974</td>\n",
       "      <td>4.069813</td>\n",
       "      <td>2.006111</td>\n",
       "      <td>3.254576</td>\n",
       "      <td>2.042884</td>\n",
       "      <td>4.341321</td>\n",
       "      <td>...</td>\n",
       "      <td>2.014712</td>\n",
       "      <td>4.151497</td>\n",
       "      <td>5.317409</td>\n",
       "      <td>7.399441</td>\n",
       "      <td>14.901088</td>\n",
       "      <td>2.451221</td>\n",
       "      <td>11.794719</td>\n",
       "      <td>4.194648</td>\n",
       "      <td>14.496634</td>\n",
       "      <td>14.496634</td>\n",
       "    </tr>\n",
       "    <tr>\n",
       "      <th>min</th>\n",
       "      <td>10.000000</td>\n",
       "      <td>0.000000</td>\n",
       "      <td>16.790000</td>\n",
       "      <td>27.023333</td>\n",
       "      <td>16.100000</td>\n",
       "      <td>20.463333</td>\n",
       "      <td>17.200000</td>\n",
       "      <td>28.766667</td>\n",
       "      <td>15.100000</td>\n",
       "      <td>27.660000</td>\n",
       "      <td>...</td>\n",
       "      <td>14.890000</td>\n",
       "      <td>29.166667</td>\n",
       "      <td>-5.000000</td>\n",
       "      <td>729.300000</td>\n",
       "      <td>24.000000</td>\n",
       "      <td>0.000000</td>\n",
       "      <td>1.000000</td>\n",
       "      <td>-6.600000</td>\n",
       "      <td>0.005322</td>\n",
       "      <td>0.005322</td>\n",
       "    </tr>\n",
       "    <tr>\n",
       "      <th>25%</th>\n",
       "      <td>50.000000</td>\n",
       "      <td>0.000000</td>\n",
       "      <td>20.760000</td>\n",
       "      <td>37.333333</td>\n",
       "      <td>18.790000</td>\n",
       "      <td>37.900000</td>\n",
       "      <td>20.790000</td>\n",
       "      <td>36.900000</td>\n",
       "      <td>19.530000</td>\n",
       "      <td>35.530000</td>\n",
       "      <td>...</td>\n",
       "      <td>18.000000</td>\n",
       "      <td>38.500000</td>\n",
       "      <td>3.666667</td>\n",
       "      <td>750.933333</td>\n",
       "      <td>70.333333</td>\n",
       "      <td>2.000000</td>\n",
       "      <td>29.000000</td>\n",
       "      <td>0.900000</td>\n",
       "      <td>12.497889</td>\n",
       "      <td>12.497889</td>\n",
       "    </tr>\n",
       "    <tr>\n",
       "      <th>50%</th>\n",
       "      <td>60.000000</td>\n",
       "      <td>0.000000</td>\n",
       "      <td>21.600000</td>\n",
       "      <td>39.656667</td>\n",
       "      <td>20.000000</td>\n",
       "      <td>40.500000</td>\n",
       "      <td>22.100000</td>\n",
       "      <td>38.530000</td>\n",
       "      <td>20.666667</td>\n",
       "      <td>38.400000</td>\n",
       "      <td>...</td>\n",
       "      <td>19.390000</td>\n",
       "      <td>40.900000</td>\n",
       "      <td>6.916667</td>\n",
       "      <td>756.100000</td>\n",
       "      <td>83.666667</td>\n",
       "      <td>3.666667</td>\n",
       "      <td>40.000000</td>\n",
       "      <td>3.433333</td>\n",
       "      <td>24.897653</td>\n",
       "      <td>24.897653</td>\n",
       "    </tr>\n",
       "    <tr>\n",
       "      <th>75%</th>\n",
       "      <td>100.000000</td>\n",
       "      <td>0.000000</td>\n",
       "      <td>22.600000</td>\n",
       "      <td>43.066667</td>\n",
       "      <td>21.500000</td>\n",
       "      <td>43.260000</td>\n",
       "      <td>23.290000</td>\n",
       "      <td>41.760000</td>\n",
       "      <td>22.100000</td>\n",
       "      <td>42.156667</td>\n",
       "      <td>...</td>\n",
       "      <td>20.600000</td>\n",
       "      <td>44.338095</td>\n",
       "      <td>10.408333</td>\n",
       "      <td>760.933333</td>\n",
       "      <td>91.666667</td>\n",
       "      <td>5.500000</td>\n",
       "      <td>40.000000</td>\n",
       "      <td>6.566667</td>\n",
       "      <td>37.583769</td>\n",
       "      <td>37.583769</td>\n",
       "    </tr>\n",
       "    <tr>\n",
       "      <th>max</th>\n",
       "      <td>1080.000000</td>\n",
       "      <td>70.000000</td>\n",
       "      <td>26.260000</td>\n",
       "      <td>63.360000</td>\n",
       "      <td>29.856667</td>\n",
       "      <td>56.026667</td>\n",
       "      <td>29.236000</td>\n",
       "      <td>50.163333</td>\n",
       "      <td>26.200000</td>\n",
       "      <td>51.090000</td>\n",
       "      <td>...</td>\n",
       "      <td>24.500000</td>\n",
       "      <td>53.326667</td>\n",
       "      <td>26.100000</td>\n",
       "      <td>772.300000</td>\n",
       "      <td>100.000000</td>\n",
       "      <td>14.000000</td>\n",
       "      <td>66.000000</td>\n",
       "      <td>15.500000</td>\n",
       "      <td>49.996530</td>\n",
       "      <td>49.996530</td>\n",
       "    </tr>\n",
       "  </tbody>\n",
       "</table>\n",
       "<p>8 rows × 28 columns</p>\n",
       "</div>"
      ],
      "text/plain": [
       "         Appliances        lights            T1          RH_1            T2  \\\n",
       "count  19735.000000  19735.000000  19735.000000  19735.000000  19735.000000   \n",
       "mean      97.694958      3.801875     21.686571     40.259739     20.341219   \n",
       "std      102.524891      7.935988      1.606066      3.979299      2.192974   \n",
       "min       10.000000      0.000000     16.790000     27.023333     16.100000   \n",
       "25%       50.000000      0.000000     20.760000     37.333333     18.790000   \n",
       "50%       60.000000      0.000000     21.600000     39.656667     20.000000   \n",
       "75%      100.000000      0.000000     22.600000     43.066667     21.500000   \n",
       "max     1080.000000     70.000000     26.260000     63.360000     29.856667   \n",
       "\n",
       "               RH_2            T3          RH_3            T4          RH_4  \\\n",
       "count  19735.000000  19735.000000  19735.000000  19735.000000  19735.000000   \n",
       "mean      40.420420     22.267611     39.242500     20.855335     39.026904   \n",
       "std        4.069813      2.006111      3.254576      2.042884      4.341321   \n",
       "min       20.463333     17.200000     28.766667     15.100000     27.660000   \n",
       "25%       37.900000     20.790000     36.900000     19.530000     35.530000   \n",
       "50%       40.500000     22.100000     38.530000     20.666667     38.400000   \n",
       "75%       43.260000     23.290000     41.760000     22.100000     42.156667   \n",
       "max       56.026667     29.236000     50.163333     26.200000     51.090000   \n",
       "\n",
       "       ...            T9          RH_9         T_out   Press_mm_hg  \\\n",
       "count  ...  19735.000000  19735.000000  19735.000000  19735.000000   \n",
       "mean   ...     19.485828     41.552401      7.411665    755.522602   \n",
       "std    ...      2.014712      4.151497      5.317409      7.399441   \n",
       "min    ...     14.890000     29.166667     -5.000000    729.300000   \n",
       "25%    ...     18.000000     38.500000      3.666667    750.933333   \n",
       "50%    ...     19.390000     40.900000      6.916667    756.100000   \n",
       "75%    ...     20.600000     44.338095     10.408333    760.933333   \n",
       "max    ...     24.500000     53.326667     26.100000    772.300000   \n",
       "\n",
       "             RH_out     Windspeed    Visibility     Tdewpoint           rv1  \\\n",
       "count  19735.000000  19735.000000  19735.000000  19735.000000  19735.000000   \n",
       "mean      79.750418      4.039752     38.330834      3.760707     24.988033   \n",
       "std       14.901088      2.451221     11.794719      4.194648     14.496634   \n",
       "min       24.000000      0.000000      1.000000     -6.600000      0.005322   \n",
       "25%       70.333333      2.000000     29.000000      0.900000     12.497889   \n",
       "50%       83.666667      3.666667     40.000000      3.433333     24.897653   \n",
       "75%       91.666667      5.500000     40.000000      6.566667     37.583769   \n",
       "max      100.000000     14.000000     66.000000     15.500000     49.996530   \n",
       "\n",
       "                rv2  \n",
       "count  19735.000000  \n",
       "mean      24.988033  \n",
       "std       14.496634  \n",
       "min        0.005322  \n",
       "25%       12.497889  \n",
       "50%       24.897653  \n",
       "75%       37.583769  \n",
       "max       49.996530  \n",
       "\n",
       "[8 rows x 28 columns]"
      ]
     },
     "execution_count": 7,
     "metadata": {},
     "output_type": "execute_result"
    }
   ],
   "source": [
    "#Some statistics for the numerical columns\n",
    "energy_df.describe()"
   ]
  },
  {
   "cell_type": "markdown",
   "id": "378b66b4",
   "metadata": {},
   "source": [
    "<br>\n",
    "<font size=\"+3\"><strong> \n",
    "Normalization of the Dataset\n",
    "<font>"
   ]
  },
  {
   "cell_type": "markdown",
   "id": "8fd576b1",
   "metadata": {},
   "source": [
    "<br>\n",
    "<font size=\"+3\"><strong> \n",
    "Answering the Quiz Questions\n",
    "<font>"
   ]
  },
  {
   "cell_type": "markdown",
   "id": "86f86f87",
   "metadata": {},
   "source": [
    "**Importing libraries**"
   ]
  },
  {
   "cell_type": "code",
   "execution_count": 8,
   "id": "554d322a",
   "metadata": {},
   "outputs": [],
   "source": [
    "import plotly.express as px\n",
    "import matplotlib\n",
    "import matplotlib.pyplot as plt\n",
    "import seaborn as sns\n",
    "%matplotlib inline"
   ]
  },
  {
   "cell_type": "code",
   "execution_count": 9,
   "id": "0dcc18e8",
   "metadata": {},
   "outputs": [],
   "source": [
    "#Improving the default style and font sizes for the charts\n",
    "sns.set_style('darkgrid')\n",
    "matplotlib.rcParams['font.size'] = 14\n",
    "matplotlib.rcParams['figure.figsize'] = (10, 6)\n",
    "matplotlib.rcParams['figure.facecolor'] = '#00000000'"
   ]
  },
  {
   "cell_type": "markdown",
   "id": "6b5c99d2",
   "metadata": {},
   "source": [
    "**Question 12**\n",
    "\n",
    "From the dataset, fit a linear model on the relationship between the temperature in the living room in Celsius (x = T2) and the temperature outside the building (y = T6). What is the R^2 value in two d.p.?"
   ]
  },
  {
   "cell_type": "markdown",
   "id": "2c6451df",
   "metadata": {},
   "source": [
    "**Setting the target and Regressors up**"
   ]
  },
  {
   "cell_type": "code",
   "execution_count": 10,
   "id": "2528f3df",
   "metadata": {},
   "outputs": [
    {
     "name": "stdout",
     "output_type": "stream",
     "text": [
      "<class 'pandas.core.frame.DataFrame'>\n",
      "RangeIndex: 19735 entries, 0 to 19734\n",
      "Data columns (total 2 columns):\n",
      " #   Column  Non-Null Count  Dtype  \n",
      "---  ------  --------------  -----  \n",
      " 0   T6      19735 non-null  float64\n",
      " 1   T2      19735 non-null  float64\n",
      "dtypes: float64(2)\n",
      "memory usage: 308.5 KB\n"
     ]
    }
   ],
   "source": [
    "#Setting target and regressor variables separate from dataframe\n",
    "lreg_df = energy_df[[\"T6\", \"T2\"]]\n",
    "lreg_df.info()\n",
    "\n",
    "#T6:Temperature outside the building (north side), in Celsius \n",
    "#T2:Temperature in living room area, in Celsius"
   ]
  },
  {
   "cell_type": "code",
   "execution_count": 11,
   "id": "75fed9aa",
   "metadata": {},
   "outputs": [],
   "source": [
    "#Setting target and regression variables up\n",
    "\n",
    "y = energy_df.T6\n",
    "\n",
    "X = lreg_df[[\"T2\"]]\n",
    "\n",
    "#T6:Temperature outside the building (north side), in Celsius \n",
    "#T2:Temperature in living room area, in Celsius"
   ]
  },
  {
   "cell_type": "markdown",
   "id": "1c5f1296",
   "metadata": {},
   "source": [
    "**The regression plot**"
   ]
  },
  {
   "cell_type": "code",
   "execution_count": 12,
   "id": "7a6652fe",
   "metadata": {},
   "outputs": [
    {
     "data": {
      "text/plain": [
       "Text(0, 0.5, 'Temperature outside the building')"
      ]
     },
     "execution_count": 12,
     "metadata": {},
     "output_type": "execute_result"
    },
    {
     "data": {
      "image/png": "[encoded data removed]",
      "text/plain": [
       "<Figure size 720x432 with 1 Axes>"
      ]
     },
     "metadata": {
      "needs_background": "light"
     },
     "output_type": "display_data"
    }
   ],
   "source": [
    "sns.regplot(x = 'T2',y = 'T6', data = lreg_df)\n",
    "\n",
    "#T6:Temperature outside the building (north side), in Celsius \n",
    "#T2:Temperature in living room area, in Celsius\n",
    "\n",
    "#Title\n",
    "plt.title('Regression Plot')\n",
    "# Set x-axis label\n",
    "plt.xlabel('Temperature in living room area')\n",
    "# Set y-axis label\n",
    "plt.ylabel('Temperature outside the building')"
   ]
  },
  {
   "cell_type": "markdown",
   "id": "f5ddd273",
   "metadata": {},
   "source": [
    "**Comment**: The entire data was used for the plot, hence it appears very dense as against when a sample size is selected"
   ]
  },
  {
   "cell_type": "markdown",
   "id": "e74185fc",
   "metadata": {},
   "source": [
    "\n",
    "\n",
    "\n",
    "**Fitting Linear Regression Model and Predicting Results**"
   ]
  },
  {
   "cell_type": "code",
   "execution_count": 13,
   "id": "2598d5e7",
   "metadata": {},
   "outputs": [],
   "source": [
    "#importing the scikit-learn library\n",
    "\n",
    "from sklearn.linear_model import LinearRegression"
   ]
  },
  {
   "cell_type": "code",
   "execution_count": 14,
   "id": "7d5da768",
   "metadata": {},
   "outputs": [
    {
     "data": {
      "text/plain": [
       "LinearRegression()"
      ]
     },
     "execution_count": 14,
     "metadata": {},
     "output_type": "execute_result"
    }
   ],
   "source": [
    "#Fitting simple Linear Regression Model\n",
    "\n",
    "linr_model = LinearRegression().fit(X, y)\n",
    "\n",
    "linr_model"
   ]
  },
  {
   "cell_type": "markdown",
   "id": "b1d859a9",
   "metadata": {},
   "source": [
    "**Model Fitting Results**"
   ]
  },
  {
   "cell_type": "code",
   "execution_count": 15,
   "id": "a2ab2b22",
   "metadata": {},
   "outputs": [
    {
     "data": {
      "text/plain": [
       "array([2.22506139])"
      ]
     },
     "execution_count": 15,
     "metadata": {},
     "output_type": "execute_result"
    }
   ],
   "source": [
    "#The regression coefficient or slope\n",
    "linr_model.coef_"
   ]
  },
  {
   "cell_type": "code",
   "execution_count": 16,
   "id": "cc32969a",
   "metadata": {},
   "outputs": [
    {
     "data": {
      "text/plain": [
       "-37.349522638445364"
      ]
     },
     "execution_count": 16,
     "metadata": {},
     "output_type": "execute_result"
    }
   ],
   "source": [
    "#The intercept\n",
    "linr_model.intercept_"
   ]
  },
  {
   "cell_type": "markdown",
   "id": "9bd38d62",
   "metadata": {},
   "source": [
    "**Making Predictions based on the coefficient and intercept**"
   ]
  },
  {
   "cell_type": "code",
   "execution_count": 17,
   "id": "a846bacb",
   "metadata": {},
   "outputs": [
    {
     "data": {
      "text/plain": [
       "array([ 5.37165597,  5.37165597,  5.37165597, ..., 19.67562202,\n",
       "       19.19818742, 18.86506395])"
      ]
     },
     "execution_count": 17,
     "metadata": {},
     "output_type": "execute_result"
    }
   ],
   "source": [
    "#Calling the predict() method from linear_model\n",
    "\n",
    "linr_model.predict(lreg_df[[\"T2\"]])\n",
    "\n",
    "#T2:Temperature in living room area, in Celsius"
   ]
  },
  {
   "cell_type": "markdown",
   "id": "baf6ffb4",
   "metadata": {},
   "source": [
    "**Looking at variation Explained by the Regressor**\n",
    "\n"
   ]
  },
  {
   "cell_type": "code",
   "execution_count": 18,
   "id": "856794ae",
   "metadata": {},
   "outputs": [],
   "source": [
    "#importing libraries\n",
    "\n",
    "from sklearn import metrics\n",
    "from sklearn.metrics import r2_score"
   ]
  },
  {
   "cell_type": "code",
   "execution_count": 19,
   "id": "f1a26ff7",
   "metadata": {},
   "outputs": [
    {
     "data": {
      "text/plain": [
       "0.64"
      ]
     },
     "execution_count": 19,
     "metadata": {},
     "output_type": "execute_result"
    }
   ],
   "source": [
    "#variation explained\n",
    "\n",
    "\n",
    "r2_score = r2_score(\n",
    "\n",
    "    y_true = lreg_df.T6, \n",
    "\n",
    "    y_pred = linr_model.predict(lreg_df[[\"T2\"]])\n",
    "\n",
    ")\n",
    "round(r2_score, 2)"
   ]
  },
  {
   "cell_type": "markdown",
   "id": "802f9e65",
   "metadata": {},
   "source": [
    "**ANSWER TO QUESTION 12:**\n",
    "\n",
    "The R^2 value in two d.p is\n",
    "\n",
    "**0.64**"
   ]
  },
  {
   "cell_type": "markdown",
   "id": "21e1dc72",
   "metadata": {},
   "source": [
    "------------------\n",
    "\n",
    "\n",
    "\n",
    "\n",
    "\n",
    "-------------------"
   ]
  },
  {
   "cell_type": "markdown",
   "id": "66dd94c2",
   "metadata": {},
   "source": [
    "**Question 13** \n",
    "\n",
    "Normalize the dataset using the MinMaxScaler after removing the following columns: [“date”, “lights”]. The target variable is “Appliances”. Use a 70-30 train-test set split with a random state of 42 (for reproducibility). Run a multiple linear regression using the training set and evaluate your model on the test set. Answer the following questions:\n",
    "What is the Mean Absolute Error (in two decimal places)?"
   ]
  },
  {
   "cell_type": "markdown",
   "id": "2fb58654",
   "metadata": {},
   "source": []
  },
  {
   "cell_type": "markdown",
   "id": "e41c3b9c",
   "metadata": {},
   "source": [
    "**Importing libraries**"
   ]
  },
  {
   "cell_type": "code",
   "execution_count": 20,
   "id": "e49cd876",
   "metadata": {},
   "outputs": [],
   "source": [
    "from sklearn import preprocessing\n",
    "from sklearn.preprocessing import MinMaxScaler"
   ]
  },
  {
   "cell_type": "markdown",
   "id": "c2f71948",
   "metadata": {},
   "source": [
    "**Normalizing dataset using MinMaxScaler**"
   ]
  },
  {
   "cell_type": "code",
   "execution_count": 21,
   "id": "785bc63b",
   "metadata": {},
   "outputs": [],
   "source": [
    "scaler = MinMaxScaler()"
   ]
  },
  {
   "cell_type": "code",
   "execution_count": 22,
   "id": "5d0179ad",
   "metadata": {},
   "outputs": [],
   "source": [
    "#Dropping the date column\n",
    "\n",
    "energy2_df = energy_df.drop('date', axis = 1)"
   ]
  },
  {
   "cell_type": "code",
   "execution_count": 23,
   "id": "445f1f97",
   "metadata": {},
   "outputs": [
    {
     "data": {
      "text/html": [
       "<div>\n",
       "<style scoped>\n",
       "    .dataframe tbody tr th:only-of-type {\n",
       "        vertical-align: middle;\n",
       "    }\n",
       "\n",
       "    .dataframe tbody tr th {\n",
       "        vertical-align: top;\n",
       "    }\n",
       "\n",
       "    .dataframe thead th {\n",
       "        text-align: right;\n",
       "    }\n",
       "</style>\n",
       "<table border=\"1\" class=\"dataframe\">\n",
       "  <thead>\n",
       "    <tr style=\"text-align: right;\">\n",
       "      <th></th>\n",
       "      <th>Appliances</th>\n",
       "      <th>lights</th>\n",
       "      <th>T1</th>\n",
       "      <th>RH_1</th>\n",
       "      <th>T2</th>\n",
       "      <th>RH_2</th>\n",
       "      <th>T3</th>\n",
       "      <th>RH_3</th>\n",
       "      <th>T4</th>\n",
       "      <th>RH_4</th>\n",
       "      <th>...</th>\n",
       "      <th>T9</th>\n",
       "      <th>RH_9</th>\n",
       "      <th>T_out</th>\n",
       "      <th>Press_mm_hg</th>\n",
       "      <th>RH_out</th>\n",
       "      <th>Windspeed</th>\n",
       "      <th>Visibility</th>\n",
       "      <th>Tdewpoint</th>\n",
       "      <th>rv1</th>\n",
       "      <th>rv2</th>\n",
       "    </tr>\n",
       "  </thead>\n",
       "  <tbody>\n",
       "    <tr>\n",
       "      <th>0</th>\n",
       "      <td>0.046729</td>\n",
       "      <td>0.428571</td>\n",
       "      <td>0.32735</td>\n",
       "      <td>0.566187</td>\n",
       "      <td>0.225345</td>\n",
       "      <td>0.684038</td>\n",
       "      <td>0.215188</td>\n",
       "      <td>0.746066</td>\n",
       "      <td>0.351351</td>\n",
       "      <td>0.764262</td>\n",
       "      <td>...</td>\n",
       "      <td>0.223032</td>\n",
       "      <td>0.677290</td>\n",
       "      <td>0.372990</td>\n",
       "      <td>0.097674</td>\n",
       "      <td>0.894737</td>\n",
       "      <td>0.500000</td>\n",
       "      <td>0.953846</td>\n",
       "      <td>0.538462</td>\n",
       "      <td>0.265449</td>\n",
       "      <td>0.265449</td>\n",
       "    </tr>\n",
       "    <tr>\n",
       "      <th>1</th>\n",
       "      <td>0.046729</td>\n",
       "      <td>0.428571</td>\n",
       "      <td>0.32735</td>\n",
       "      <td>0.541326</td>\n",
       "      <td>0.225345</td>\n",
       "      <td>0.682140</td>\n",
       "      <td>0.215188</td>\n",
       "      <td>0.748871</td>\n",
       "      <td>0.351351</td>\n",
       "      <td>0.782437</td>\n",
       "      <td>...</td>\n",
       "      <td>0.226500</td>\n",
       "      <td>0.678532</td>\n",
       "      <td>0.369239</td>\n",
       "      <td>0.100000</td>\n",
       "      <td>0.894737</td>\n",
       "      <td>0.476190</td>\n",
       "      <td>0.894872</td>\n",
       "      <td>0.533937</td>\n",
       "      <td>0.372083</td>\n",
       "      <td>0.372083</td>\n",
       "    </tr>\n",
       "    <tr>\n",
       "      <th>2</th>\n",
       "      <td>0.037383</td>\n",
       "      <td>0.428571</td>\n",
       "      <td>0.32735</td>\n",
       "      <td>0.530502</td>\n",
       "      <td>0.225345</td>\n",
       "      <td>0.679445</td>\n",
       "      <td>0.215188</td>\n",
       "      <td>0.755569</td>\n",
       "      <td>0.344745</td>\n",
       "      <td>0.778062</td>\n",
       "      <td>...</td>\n",
       "      <td>0.219563</td>\n",
       "      <td>0.676049</td>\n",
       "      <td>0.365488</td>\n",
       "      <td>0.102326</td>\n",
       "      <td>0.894737</td>\n",
       "      <td>0.452381</td>\n",
       "      <td>0.835897</td>\n",
       "      <td>0.529412</td>\n",
       "      <td>0.572848</td>\n",
       "      <td>0.572848</td>\n",
       "    </tr>\n",
       "    <tr>\n",
       "      <th>3</th>\n",
       "      <td>0.037383</td>\n",
       "      <td>0.571429</td>\n",
       "      <td>0.32735</td>\n",
       "      <td>0.524080</td>\n",
       "      <td>0.225345</td>\n",
       "      <td>0.678414</td>\n",
       "      <td>0.215188</td>\n",
       "      <td>0.758685</td>\n",
       "      <td>0.341441</td>\n",
       "      <td>0.770949</td>\n",
       "      <td>...</td>\n",
       "      <td>0.219563</td>\n",
       "      <td>0.671909</td>\n",
       "      <td>0.361736</td>\n",
       "      <td>0.104651</td>\n",
       "      <td>0.894737</td>\n",
       "      <td>0.428571</td>\n",
       "      <td>0.776923</td>\n",
       "      <td>0.524887</td>\n",
       "      <td>0.908261</td>\n",
       "      <td>0.908261</td>\n",
       "    </tr>\n",
       "    <tr>\n",
       "      <th>4</th>\n",
       "      <td>0.046729</td>\n",
       "      <td>0.571429</td>\n",
       "      <td>0.32735</td>\n",
       "      <td>0.531419</td>\n",
       "      <td>0.225345</td>\n",
       "      <td>0.676727</td>\n",
       "      <td>0.215188</td>\n",
       "      <td>0.758685</td>\n",
       "      <td>0.341441</td>\n",
       "      <td>0.762697</td>\n",
       "      <td>...</td>\n",
       "      <td>0.219563</td>\n",
       "      <td>0.671909</td>\n",
       "      <td>0.357985</td>\n",
       "      <td>0.106977</td>\n",
       "      <td>0.894737</td>\n",
       "      <td>0.404762</td>\n",
       "      <td>0.717949</td>\n",
       "      <td>0.520362</td>\n",
       "      <td>0.201611</td>\n",
       "      <td>0.201611</td>\n",
       "    </tr>\n",
       "  </tbody>\n",
       "</table>\n",
       "<p>5 rows × 28 columns</p>\n",
       "</div>"
      ],
      "text/plain": [
       "   Appliances    lights       T1      RH_1        T2      RH_2        T3  \\\n",
       "0    0.046729  0.428571  0.32735  0.566187  0.225345  0.684038  0.215188   \n",
       "1    0.046729  0.428571  0.32735  0.541326  0.225345  0.682140  0.215188   \n",
       "2    0.037383  0.428571  0.32735  0.530502  0.225345  0.679445  0.215188   \n",
       "3    0.037383  0.571429  0.32735  0.524080  0.225345  0.678414  0.215188   \n",
       "4    0.046729  0.571429  0.32735  0.531419  0.225345  0.676727  0.215188   \n",
       "\n",
       "       RH_3        T4      RH_4  ...        T9      RH_9     T_out  \\\n",
       "0  0.746066  0.351351  0.764262  ...  0.223032  0.677290  0.372990   \n",
       "1  0.748871  0.351351  0.782437  ...  0.226500  0.678532  0.369239   \n",
       "2  0.755569  0.344745  0.778062  ...  0.219563  0.676049  0.365488   \n",
       "3  0.758685  0.341441  0.770949  ...  0.219563  0.671909  0.361736   \n",
       "4  0.758685  0.341441  0.762697  ...  0.219563  0.671909  0.357985   \n",
       "\n",
       "   Press_mm_hg    RH_out  Windspeed  Visibility  Tdewpoint       rv1       rv2  \n",
       "0     0.097674  0.894737   0.500000    0.953846   0.538462  0.265449  0.265449  \n",
       "1     0.100000  0.894737   0.476190    0.894872   0.533937  0.372083  0.372083  \n",
       "2     0.102326  0.894737   0.452381    0.835897   0.529412  0.572848  0.572848  \n",
       "3     0.104651  0.894737   0.428571    0.776923   0.524887  0.908261  0.908261  \n",
       "4     0.106977  0.894737   0.404762    0.717949   0.520362  0.201611  0.201611  \n",
       "\n",
       "[5 rows x 28 columns]"
      ]
     },
     "execution_count": 23,
     "metadata": {},
     "output_type": "execute_result"
    }
   ],
   "source": [
    "normalised_df = pd.DataFrame(scaler.fit_transform(energy2_df), columns=energy2_df.columns)\n",
    "\n",
    "normalised_df.head()"
   ]
  },
  {
   "cell_type": "code",
   "execution_count": 24,
   "id": "77e53e6a",
   "metadata": {},
   "outputs": [],
   "source": [
    "#Dropping the Light and Appliances column\n",
    "features_df = normalised_df.drop(columns=['lights','Appliances'])"
   ]
  },
  {
   "cell_type": "code",
   "execution_count": 25,
   "id": "0e290228",
   "metadata": {},
   "outputs": [
    {
     "data": {
      "text/html": [
       "<div>\n",
       "<style scoped>\n",
       "    .dataframe tbody tr th:only-of-type {\n",
       "        vertical-align: middle;\n",
       "    }\n",
       "\n",
       "    .dataframe tbody tr th {\n",
       "        vertical-align: top;\n",
       "    }\n",
       "\n",
       "    .dataframe thead th {\n",
       "        text-align: right;\n",
       "    }\n",
       "</style>\n",
       "<table border=\"1\" class=\"dataframe\">\n",
       "  <thead>\n",
       "    <tr style=\"text-align: right;\">\n",
       "      <th></th>\n",
       "      <th>T1</th>\n",
       "      <th>RH_1</th>\n",
       "      <th>T2</th>\n",
       "      <th>RH_2</th>\n",
       "      <th>T3</th>\n",
       "      <th>RH_3</th>\n",
       "      <th>T4</th>\n",
       "      <th>RH_4</th>\n",
       "      <th>T5</th>\n",
       "      <th>RH_5</th>\n",
       "      <th>...</th>\n",
       "      <th>T9</th>\n",
       "      <th>RH_9</th>\n",
       "      <th>T_out</th>\n",
       "      <th>Press_mm_hg</th>\n",
       "      <th>RH_out</th>\n",
       "      <th>Windspeed</th>\n",
       "      <th>Visibility</th>\n",
       "      <th>Tdewpoint</th>\n",
       "      <th>rv1</th>\n",
       "      <th>rv2</th>\n",
       "    </tr>\n",
       "  </thead>\n",
       "  <tbody>\n",
       "    <tr>\n",
       "      <th>0</th>\n",
       "      <td>0.327350</td>\n",
       "      <td>0.566187</td>\n",
       "      <td>0.225345</td>\n",
       "      <td>0.684038</td>\n",
       "      <td>0.215188</td>\n",
       "      <td>0.746066</td>\n",
       "      <td>0.351351</td>\n",
       "      <td>0.764262</td>\n",
       "      <td>0.175506</td>\n",
       "      <td>0.381691</td>\n",
       "      <td>...</td>\n",
       "      <td>0.223032</td>\n",
       "      <td>0.677290</td>\n",
       "      <td>0.372990</td>\n",
       "      <td>0.097674</td>\n",
       "      <td>0.894737</td>\n",
       "      <td>0.500000</td>\n",
       "      <td>0.953846</td>\n",
       "      <td>0.538462</td>\n",
       "      <td>0.265449</td>\n",
       "      <td>0.265449</td>\n",
       "    </tr>\n",
       "    <tr>\n",
       "      <th>1</th>\n",
       "      <td>0.327350</td>\n",
       "      <td>0.541326</td>\n",
       "      <td>0.225345</td>\n",
       "      <td>0.682140</td>\n",
       "      <td>0.215188</td>\n",
       "      <td>0.748871</td>\n",
       "      <td>0.351351</td>\n",
       "      <td>0.782437</td>\n",
       "      <td>0.175506</td>\n",
       "      <td>0.381691</td>\n",
       "      <td>...</td>\n",
       "      <td>0.226500</td>\n",
       "      <td>0.678532</td>\n",
       "      <td>0.369239</td>\n",
       "      <td>0.100000</td>\n",
       "      <td>0.894737</td>\n",
       "      <td>0.476190</td>\n",
       "      <td>0.894872</td>\n",
       "      <td>0.533937</td>\n",
       "      <td>0.372083</td>\n",
       "      <td>0.372083</td>\n",
       "    </tr>\n",
       "    <tr>\n",
       "      <th>2</th>\n",
       "      <td>0.327350</td>\n",
       "      <td>0.530502</td>\n",
       "      <td>0.225345</td>\n",
       "      <td>0.679445</td>\n",
       "      <td>0.215188</td>\n",
       "      <td>0.755569</td>\n",
       "      <td>0.344745</td>\n",
       "      <td>0.778062</td>\n",
       "      <td>0.175506</td>\n",
       "      <td>0.380037</td>\n",
       "      <td>...</td>\n",
       "      <td>0.219563</td>\n",
       "      <td>0.676049</td>\n",
       "      <td>0.365488</td>\n",
       "      <td>0.102326</td>\n",
       "      <td>0.894737</td>\n",
       "      <td>0.452381</td>\n",
       "      <td>0.835897</td>\n",
       "      <td>0.529412</td>\n",
       "      <td>0.572848</td>\n",
       "      <td>0.572848</td>\n",
       "    </tr>\n",
       "    <tr>\n",
       "      <th>3</th>\n",
       "      <td>0.327350</td>\n",
       "      <td>0.524080</td>\n",
       "      <td>0.225345</td>\n",
       "      <td>0.678414</td>\n",
       "      <td>0.215188</td>\n",
       "      <td>0.758685</td>\n",
       "      <td>0.341441</td>\n",
       "      <td>0.770949</td>\n",
       "      <td>0.175506</td>\n",
       "      <td>0.380037</td>\n",
       "      <td>...</td>\n",
       "      <td>0.219563</td>\n",
       "      <td>0.671909</td>\n",
       "      <td>0.361736</td>\n",
       "      <td>0.104651</td>\n",
       "      <td>0.894737</td>\n",
       "      <td>0.428571</td>\n",
       "      <td>0.776923</td>\n",
       "      <td>0.524887</td>\n",
       "      <td>0.908261</td>\n",
       "      <td>0.908261</td>\n",
       "    </tr>\n",
       "    <tr>\n",
       "      <th>4</th>\n",
       "      <td>0.327350</td>\n",
       "      <td>0.531419</td>\n",
       "      <td>0.225345</td>\n",
       "      <td>0.676727</td>\n",
       "      <td>0.215188</td>\n",
       "      <td>0.758685</td>\n",
       "      <td>0.341441</td>\n",
       "      <td>0.762697</td>\n",
       "      <td>0.178691</td>\n",
       "      <td>0.380037</td>\n",
       "      <td>...</td>\n",
       "      <td>0.219563</td>\n",
       "      <td>0.671909</td>\n",
       "      <td>0.357985</td>\n",
       "      <td>0.106977</td>\n",
       "      <td>0.894737</td>\n",
       "      <td>0.404762</td>\n",
       "      <td>0.717949</td>\n",
       "      <td>0.520362</td>\n",
       "      <td>0.201611</td>\n",
       "      <td>0.201611</td>\n",
       "    </tr>\n",
       "    <tr>\n",
       "      <th>...</th>\n",
       "      <td>...</td>\n",
       "      <td>...</td>\n",
       "      <td>...</td>\n",
       "      <td>...</td>\n",
       "      <td>...</td>\n",
       "      <td>...</td>\n",
       "      <td>...</td>\n",
       "      <td>...</td>\n",
       "      <td>...</td>\n",
       "      <td>...</td>\n",
       "      <td>...</td>\n",
       "      <td>...</td>\n",
       "      <td>...</td>\n",
       "      <td>...</td>\n",
       "      <td>...</td>\n",
       "      <td>...</td>\n",
       "      <td>...</td>\n",
       "      <td>...</td>\n",
       "      <td>...</td>\n",
       "      <td>...</td>\n",
       "      <td>...</td>\n",
       "    </tr>\n",
       "    <tr>\n",
       "      <th>19730</th>\n",
       "      <td>0.926786</td>\n",
       "      <td>0.537657</td>\n",
       "      <td>0.711655</td>\n",
       "      <td>0.606309</td>\n",
       "      <td>0.830841</td>\n",
       "      <td>0.579374</td>\n",
       "      <td>0.864865</td>\n",
       "      <td>0.765258</td>\n",
       "      <td>0.752031</td>\n",
       "      <td>0.339590</td>\n",
       "      <td>...</td>\n",
       "      <td>0.864724</td>\n",
       "      <td>0.729443</td>\n",
       "      <td>0.891747</td>\n",
       "      <td>0.602326</td>\n",
       "      <td>0.416667</td>\n",
       "      <td>0.238095</td>\n",
       "      <td>0.348718</td>\n",
       "      <td>0.901961</td>\n",
       "      <td>0.861981</td>\n",
       "      <td>0.861981</td>\n",
       "    </tr>\n",
       "    <tr>\n",
       "      <th>19731</th>\n",
       "      <td>0.919747</td>\n",
       "      <td>0.536006</td>\n",
       "      <td>0.701769</td>\n",
       "      <td>0.607836</td>\n",
       "      <td>0.825302</td>\n",
       "      <td>0.582178</td>\n",
       "      <td>0.864865</td>\n",
       "      <td>0.765258</td>\n",
       "      <td>0.754897</td>\n",
       "      <td>0.338487</td>\n",
       "      <td>...</td>\n",
       "      <td>0.864724</td>\n",
       "      <td>0.729443</td>\n",
       "      <td>0.887460</td>\n",
       "      <td>0.602326</td>\n",
       "      <td>0.421053</td>\n",
       "      <td>0.250000</td>\n",
       "      <td>0.361538</td>\n",
       "      <td>0.900452</td>\n",
       "      <td>0.985726</td>\n",
       "      <td>0.985726</td>\n",
       "    </tr>\n",
       "    <tr>\n",
       "      <th>19732</th>\n",
       "      <td>0.919747</td>\n",
       "      <td>0.538666</td>\n",
       "      <td>0.692651</td>\n",
       "      <td>0.627198</td>\n",
       "      <td>0.818378</td>\n",
       "      <td>0.603988</td>\n",
       "      <td>0.864865</td>\n",
       "      <td>0.771233</td>\n",
       "      <td>0.754897</td>\n",
       "      <td>0.337585</td>\n",
       "      <td>...</td>\n",
       "      <td>0.864724</td>\n",
       "      <td>0.729443</td>\n",
       "      <td>0.883173</td>\n",
       "      <td>0.602326</td>\n",
       "      <td>0.425439</td>\n",
       "      <td>0.261905</td>\n",
       "      <td>0.374359</td>\n",
       "      <td>0.898944</td>\n",
       "      <td>0.583979</td>\n",
       "      <td>0.583979</td>\n",
       "    </tr>\n",
       "    <tr>\n",
       "      <th>19733</th>\n",
       "      <td>0.919747</td>\n",
       "      <td>0.549491</td>\n",
       "      <td>0.677054</td>\n",
       "      <td>0.634717</td>\n",
       "      <td>0.805085</td>\n",
       "      <td>0.585294</td>\n",
       "      <td>0.864865</td>\n",
       "      <td>0.773794</td>\n",
       "      <td>0.752031</td>\n",
       "      <td>0.336583</td>\n",
       "      <td>...</td>\n",
       "      <td>0.864724</td>\n",
       "      <td>0.730581</td>\n",
       "      <td>0.878885</td>\n",
       "      <td>0.602326</td>\n",
       "      <td>0.429825</td>\n",
       "      <td>0.273810</td>\n",
       "      <td>0.387179</td>\n",
       "      <td>0.897436</td>\n",
       "      <td>0.126371</td>\n",
       "      <td>0.126371</td>\n",
       "    </tr>\n",
       "    <tr>\n",
       "      <th>19734</th>\n",
       "      <td>0.919747</td>\n",
       "      <td>0.538758</td>\n",
       "      <td>0.666171</td>\n",
       "      <td>0.632902</td>\n",
       "      <td>0.799546</td>\n",
       "      <td>0.579062</td>\n",
       "      <td>0.864865</td>\n",
       "      <td>0.781192</td>\n",
       "      <td>0.752031</td>\n",
       "      <td>0.336583</td>\n",
       "      <td>...</td>\n",
       "      <td>0.864724</td>\n",
       "      <td>0.731719</td>\n",
       "      <td>0.874598</td>\n",
       "      <td>0.602326</td>\n",
       "      <td>0.434211</td>\n",
       "      <td>0.285714</td>\n",
       "      <td>0.400000</td>\n",
       "      <td>0.895928</td>\n",
       "      <td>0.682391</td>\n",
       "      <td>0.682391</td>\n",
       "    </tr>\n",
       "  </tbody>\n",
       "</table>\n",
       "<p>19735 rows × 26 columns</p>\n",
       "</div>"
      ],
      "text/plain": [
       "             T1      RH_1        T2      RH_2        T3      RH_3        T4  \\\n",
       "0      0.327350  0.566187  0.225345  0.684038  0.215188  0.746066  0.351351   \n",
       "1      0.327350  0.541326  0.225345  0.682140  0.215188  0.748871  0.351351   \n",
       "2      0.327350  0.530502  0.225345  0.679445  0.215188  0.755569  0.344745   \n",
       "3      0.327350  0.524080  0.225345  0.678414  0.215188  0.758685  0.341441   \n",
       "4      0.327350  0.531419  0.225345  0.676727  0.215188  0.758685  0.341441   \n",
       "...         ...       ...       ...       ...       ...       ...       ...   \n",
       "19730  0.926786  0.537657  0.711655  0.606309  0.830841  0.579374  0.864865   \n",
       "19731  0.919747  0.536006  0.701769  0.607836  0.825302  0.582178  0.864865   \n",
       "19732  0.919747  0.538666  0.692651  0.627198  0.818378  0.603988  0.864865   \n",
       "19733  0.919747  0.549491  0.677054  0.634717  0.805085  0.585294  0.864865   \n",
       "19734  0.919747  0.538758  0.666171  0.632902  0.799546  0.579062  0.864865   \n",
       "\n",
       "           RH_4        T5      RH_5  ...        T9      RH_9     T_out  \\\n",
       "0      0.764262  0.175506  0.381691  ...  0.223032  0.677290  0.372990   \n",
       "1      0.782437  0.175506  0.381691  ...  0.226500  0.678532  0.369239   \n",
       "2      0.778062  0.175506  0.380037  ...  0.219563  0.676049  0.365488   \n",
       "3      0.770949  0.175506  0.380037  ...  0.219563  0.671909  0.361736   \n",
       "4      0.762697  0.178691  0.380037  ...  0.219563  0.671909  0.357985   \n",
       "...         ...       ...       ...  ...       ...       ...       ...   \n",
       "19730  0.765258  0.752031  0.339590  ...  0.864724  0.729443  0.891747   \n",
       "19731  0.765258  0.754897  0.338487  ...  0.864724  0.729443  0.887460   \n",
       "19732  0.771233  0.754897  0.337585  ...  0.864724  0.729443  0.883173   \n",
       "19733  0.773794  0.752031  0.336583  ...  0.864724  0.730581  0.878885   \n",
       "19734  0.781192  0.752031  0.336583  ...  0.864724  0.731719  0.874598   \n",
       "\n",
       "       Press_mm_hg    RH_out  Windspeed  Visibility  Tdewpoint       rv1  \\\n",
       "0         0.097674  0.894737   0.500000    0.953846   0.538462  0.265449   \n",
       "1         0.100000  0.894737   0.476190    0.894872   0.533937  0.372083   \n",
       "2         0.102326  0.894737   0.452381    0.835897   0.529412  0.572848   \n",
       "3         0.104651  0.894737   0.428571    0.776923   0.524887  0.908261   \n",
       "4         0.106977  0.894737   0.404762    0.717949   0.520362  0.201611   \n",
       "...            ...       ...        ...         ...        ...       ...   \n",
       "19730     0.602326  0.416667   0.238095    0.348718   0.901961  0.861981   \n",
       "19731     0.602326  0.421053   0.250000    0.361538   0.900452  0.985726   \n",
       "19732     0.602326  0.425439   0.261905    0.374359   0.898944  0.583979   \n",
       "19733     0.602326  0.429825   0.273810    0.387179   0.897436  0.126371   \n",
       "19734     0.602326  0.434211   0.285714    0.400000   0.895928  0.682391   \n",
       "\n",
       "            rv2  \n",
       "0      0.265449  \n",
       "1      0.372083  \n",
       "2      0.572848  \n",
       "3      0.908261  \n",
       "4      0.201611  \n",
       "...         ...  \n",
       "19730  0.861981  \n",
       "19731  0.985726  \n",
       "19732  0.583979  \n",
       "19733  0.126371  \n",
       "19734  0.682391  \n",
       "\n",
       "[19735 rows x 26 columns]"
      ]
     },
     "execution_count": 25,
     "metadata": {},
     "output_type": "execute_result"
    }
   ],
   "source": [
    "target = normalised_df['Appliances']\n",
    "features_df"
   ]
  },
  {
   "cell_type": "code",
   "execution_count": 26,
   "id": "7481d5a4",
   "metadata": {},
   "outputs": [
    {
     "data": {
      "text/plain": [
       "0        0.046729\n",
       "1        0.046729\n",
       "2        0.037383\n",
       "3        0.037383\n",
       "4        0.046729\n",
       "           ...   \n",
       "19730    0.084112\n",
       "19731    0.074766\n",
       "19732    0.242991\n",
       "19733    0.383178\n",
       "19734    0.392523\n",
       "Name: Appliances, Length: 19735, dtype: float64"
      ]
     },
     "execution_count": 26,
     "metadata": {},
     "output_type": "execute_result"
    }
   ],
   "source": [
    "#The target variable is “Appliances”\n",
    "\n",
    "target "
   ]
  },
  {
   "cell_type": "markdown",
   "id": "4d9e4d0c",
   "metadata": {},
   "source": [
    "**Splitting the dataset into the training and testing datasets** "
   ]
  },
  {
   "cell_type": "code",
   "execution_count": 27,
   "id": "d2c240bb",
   "metadata": {},
   "outputs": [],
   "source": [
    "#importing libraries\n",
    "\n",
    "import sklearn\n",
    "from sklearn.linear_model import LinearRegression\n",
    "from sklearn.model_selection import train_test_split"
   ]
  },
  {
   "cell_type": "markdown",
   "id": "d9a011a7",
   "metadata": {},
   "source": [
    "**Using a 70-30 train-test set split with a random state of 42 (for reproducibility)**"
   ]
  },
  {
   "cell_type": "code",
   "execution_count": 28,
   "id": "52ce90a6",
   "metadata": {},
   "outputs": [],
   "source": [
    "x_train, x_test, y_train, y_test = train_test_split(features_df,target, test_size=0.3, random_state=42)"
   ]
  },
  {
   "cell_type": "markdown",
   "id": "fab9f809",
   "metadata": {},
   "source": [
    "**The Model**"
   ]
  },
  {
   "cell_type": "code",
   "execution_count": 29,
   "id": "3b93f220",
   "metadata": {},
   "outputs": [],
   "source": [
    "linear_model = LinearRegression()\n",
    "\n",
    "#fit the model to the training dataset\n",
    "linear_model.fit(x_train, y_train)\n",
    "#obtain predictions\n",
    "predicted_values = linear_model.predict(x_test)"
   ]
  },
  {
   "cell_type": "code",
   "execution_count": 30,
   "id": "fe4be65e",
   "metadata": {},
   "outputs": [
    {
     "data": {
      "text/plain": [
       "0.05"
      ]
     },
     "execution_count": 30,
     "metadata": {},
     "output_type": "execute_result"
    }
   ],
   "source": [
    "#The Mean Absolute Error\n",
    "\n",
    "from sklearn.metrics import mean_absolute_error\n",
    "mae = mean_absolute_error(y_test, predicted_values)\n",
    "round(mae, 2)"
   ]
  },
  {
   "cell_type": "markdown",
   "id": "4c19d202",
   "metadata": {},
   "source": [
    "**ANSWER TO QUESTION 13**\n",
    "\n",
    "\n",
    "The Mean Absolute Error (in two decimal places) is\n",
    "\n",
    "\n",
    "**0.05**\n",
    "\n"
   ]
  },
  {
   "cell_type": "markdown",
   "id": "015aa9e5",
   "metadata": {},
   "source": [
    "----------------------\n",
    "\n",
    "\n",
    "\n",
    "----------------------"
   ]
  },
  {
   "cell_type": "markdown",
   "id": "dee98eb7",
   "metadata": {},
   "source": [
    "**Question 14**\n",
    "\n",
    "What is the Residual Sum of Squares (in two decimal places)?\n",
    "\n"
   ]
  },
  {
   "cell_type": "code",
   "execution_count": 31,
   "id": "e9a698d7",
   "metadata": {},
   "outputs": [
    {
     "data": {
      "text/plain": [
       "45.35"
      ]
     },
     "execution_count": 31,
     "metadata": {},
     "output_type": "execute_result"
    }
   ],
   "source": [
    "#Residual Sum of squares\n",
    "import numpy as np\n",
    "rss = np.sum(np.square(y_test - predicted_values))\n",
    "round(rss, 2)"
   ]
  },
  {
   "cell_type": "markdown",
   "id": "4af0c65d",
   "metadata": {},
   "source": [
    "**ANSWER TO QUESTION 14**\n",
    "\n",
    "The Residual Sum of Squares (in two decimal places)\n",
    "\n",
    "**45.35**"
   ]
  },
  {
   "cell_type": "markdown",
   "id": "525cd376",
   "metadata": {},
   "source": [
    "----------------\n",
    "\n",
    "\n",
    "----------------"
   ]
  },
  {
   "cell_type": "markdown",
   "id": "8e8bebac",
   "metadata": {},
   "source": [
    "**Question 15**\n",
    "\n",
    "What is the Root Mean Squared Error (in three decimal places)?\n",
    "\n",
    "\n"
   ]
  },
  {
   "cell_type": "code",
   "execution_count": 32,
   "id": "c809040f",
   "metadata": {},
   "outputs": [
    {
     "data": {
      "text/plain": [
       "0.088"
      ]
     },
     "execution_count": 32,
     "metadata": {},
     "output_type": "execute_result"
    }
   ],
   "source": [
    "#Root mean square error\n",
    "from sklearn.metrics import  mean_squared_error\n",
    "rmse = np.sqrt(mean_squared_error(y_test, predicted_values))\n",
    "round(rmse, 3)"
   ]
  },
  {
   "cell_type": "markdown",
   "id": "f1ab5c42",
   "metadata": {},
   "source": [
    "**ANSWER TO QUESTION 15**\n",
    "\n",
    "The Root Mean Squared Error (in three decimal places)\n",
    "\n",
    "**0.088**"
   ]
  },
  {
   "cell_type": "markdown",
   "id": "1c0cee7e",
   "metadata": {},
   "source": [
    "----------------\n",
    "\n",
    "\n",
    "----------------"
   ]
  },
  {
   "cell_type": "markdown",
   "id": "eac0ec0f",
   "metadata": {},
   "source": [
    "**Question 16**\n",
    "\n",
    "What is the Coefficient of Determination (in two decimal places)?\n"
   ]
  },
  {
   "cell_type": "code",
   "execution_count": 33,
   "id": "ce079a04",
   "metadata": {},
   "outputs": [
    {
     "data": {
      "text/plain": [
       "0.15"
      ]
     },
     "execution_count": 33,
     "metadata": {},
     "output_type": "execute_result"
    }
   ],
   "source": [
    "#Coefficient of Determination\n",
    "from sklearn.metrics import r2_score\n",
    "r2_score = r2_score(y_test, predicted_values)\n",
    "round(r2_score, 2)"
   ]
  },
  {
   "cell_type": "markdown",
   "id": "21d75aaf",
   "metadata": {},
   "source": [
    "**ANSWER TO QUESTION 16**\n",
    "\n",
    "The Coefficient of Determination (in two decimal places)\n",
    "\n",
    "**0.15**"
   ]
  },
  {
   "cell_type": "markdown",
   "id": "8986b593",
   "metadata": {},
   "source": [
    "----------------\n",
    "\n",
    "\n",
    "----------------"
   ]
  },
  {
   "cell_type": "markdown",
   "id": "29280c97",
   "metadata": {},
   "source": [
    "**Question 17**\n",
    "\n",
    "Obtain the feature weights from your linear model above. Which features have the lowest and highest weights respectively?\n",
    "\n",
    "\n"
   ]
  },
  {
   "cell_type": "code",
   "execution_count": 34,
   "id": "11b7ff45",
   "metadata": {},
   "outputs": [
    {
     "data": {
      "text/html": [
       "<div>\n",
       "<style scoped>\n",
       "    .dataframe tbody tr th:only-of-type {\n",
       "        vertical-align: middle;\n",
       "    }\n",
       "\n",
       "    .dataframe tbody tr th {\n",
       "        vertical-align: top;\n",
       "    }\n",
       "\n",
       "    .dataframe thead th {\n",
       "        text-align: right;\n",
       "    }\n",
       "</style>\n",
       "<table border=\"1\" class=\"dataframe\">\n",
       "  <thead>\n",
       "    <tr style=\"text-align: right;\">\n",
       "      <th></th>\n",
       "      <th>Features</th>\n",
       "      <th>Linear_Model_Weight</th>\n",
       "    </tr>\n",
       "  </thead>\n",
       "  <tbody>\n",
       "    <tr>\n",
       "      <th>0</th>\n",
       "      <td>RH_2</td>\n",
       "      <td>-0.456698</td>\n",
       "    </tr>\n",
       "    <tr>\n",
       "      <th>1</th>\n",
       "      <td>T_out</td>\n",
       "      <td>-0.321860</td>\n",
       "    </tr>\n",
       "    <tr>\n",
       "      <th>2</th>\n",
       "      <td>T2</td>\n",
       "      <td>-0.236178</td>\n",
       "    </tr>\n",
       "    <tr>\n",
       "      <th>3</th>\n",
       "      <td>T9</td>\n",
       "      <td>-0.189941</td>\n",
       "    </tr>\n",
       "    <tr>\n",
       "      <th>4</th>\n",
       "      <td>RH_8</td>\n",
       "      <td>-0.157595</td>\n",
       "    </tr>\n",
       "    <tr>\n",
       "      <th>5</th>\n",
       "      <td>RH_out</td>\n",
       "      <td>-0.077671</td>\n",
       "    </tr>\n",
       "    <tr>\n",
       "      <th>6</th>\n",
       "      <td>RH_7</td>\n",
       "      <td>-0.044614</td>\n",
       "    </tr>\n",
       "    <tr>\n",
       "      <th>7</th>\n",
       "      <td>RH_9</td>\n",
       "      <td>-0.039800</td>\n",
       "    </tr>\n",
       "    <tr>\n",
       "      <th>8</th>\n",
       "      <td>T5</td>\n",
       "      <td>-0.015657</td>\n",
       "    </tr>\n",
       "    <tr>\n",
       "      <th>9</th>\n",
       "      <td>T1</td>\n",
       "      <td>-0.003281</td>\n",
       "    </tr>\n",
       "    <tr>\n",
       "      <th>10</th>\n",
       "      <td>rv1</td>\n",
       "      <td>0.000770</td>\n",
       "    </tr>\n",
       "    <tr>\n",
       "      <th>11</th>\n",
       "      <td>rv2</td>\n",
       "      <td>0.000770</td>\n",
       "    </tr>\n",
       "    <tr>\n",
       "      <th>12</th>\n",
       "      <td>Press_mm_hg</td>\n",
       "      <td>0.006839</td>\n",
       "    </tr>\n",
       "    <tr>\n",
       "      <th>13</th>\n",
       "      <td>T7</td>\n",
       "      <td>0.010319</td>\n",
       "    </tr>\n",
       "    <tr>\n",
       "      <th>14</th>\n",
       "      <td>Visibility</td>\n",
       "      <td>0.012307</td>\n",
       "    </tr>\n",
       "    <tr>\n",
       "      <th>15</th>\n",
       "      <td>RH_5</td>\n",
       "      <td>0.016006</td>\n",
       "    </tr>\n",
       "    <tr>\n",
       "      <th>16</th>\n",
       "      <td>RH_4</td>\n",
       "      <td>0.026386</td>\n",
       "    </tr>\n",
       "    <tr>\n",
       "      <th>17</th>\n",
       "      <td>T4</td>\n",
       "      <td>0.028981</td>\n",
       "    </tr>\n",
       "    <tr>\n",
       "      <th>18</th>\n",
       "      <td>Windspeed</td>\n",
       "      <td>0.029183</td>\n",
       "    </tr>\n",
       "    <tr>\n",
       "      <th>19</th>\n",
       "      <td>RH_6</td>\n",
       "      <td>0.038049</td>\n",
       "    </tr>\n",
       "    <tr>\n",
       "      <th>20</th>\n",
       "      <td>RH_3</td>\n",
       "      <td>0.096048</td>\n",
       "    </tr>\n",
       "    <tr>\n",
       "      <th>21</th>\n",
       "      <td>T8</td>\n",
       "      <td>0.101995</td>\n",
       "    </tr>\n",
       "    <tr>\n",
       "      <th>22</th>\n",
       "      <td>Tdewpoint</td>\n",
       "      <td>0.117758</td>\n",
       "    </tr>\n",
       "    <tr>\n",
       "      <th>23</th>\n",
       "      <td>T6</td>\n",
       "      <td>0.236425</td>\n",
       "    </tr>\n",
       "    <tr>\n",
       "      <th>24</th>\n",
       "      <td>T3</td>\n",
       "      <td>0.290627</td>\n",
       "    </tr>\n",
       "    <tr>\n",
       "      <th>25</th>\n",
       "      <td>RH_1</td>\n",
       "      <td>0.553547</td>\n",
       "    </tr>\n",
       "  </tbody>\n",
       "</table>\n",
       "</div>"
      ],
      "text/plain": [
       "       Features  Linear_Model_Weight\n",
       "0          RH_2            -0.456698\n",
       "1         T_out            -0.321860\n",
       "2            T2            -0.236178\n",
       "3            T9            -0.189941\n",
       "4          RH_8            -0.157595\n",
       "5        RH_out            -0.077671\n",
       "6          RH_7            -0.044614\n",
       "7          RH_9            -0.039800\n",
       "8            T5            -0.015657\n",
       "9            T1            -0.003281\n",
       "10          rv1             0.000770\n",
       "11          rv2             0.000770\n",
       "12  Press_mm_hg             0.006839\n",
       "13           T7             0.010319\n",
       "14   Visibility             0.012307\n",
       "15         RH_5             0.016006\n",
       "16         RH_4             0.026386\n",
       "17           T4             0.028981\n",
       "18    Windspeed             0.029183\n",
       "19         RH_6             0.038049\n",
       "20         RH_3             0.096048\n",
       "21           T8             0.101995\n",
       "22    Tdewpoint             0.117758\n",
       "23           T6             0.236425\n",
       "24           T3             0.290627\n",
       "25         RH_1             0.553547"
      ]
     },
     "execution_count": 34,
     "metadata": {},
     "output_type": "execute_result"
    }
   ],
   "source": [
    "def get_weights_df(model, feat, col_name):\n",
    "  #this function returns the weight of every feature\n",
    "  weights = pd.Series(model.coef_, feat.columns).sort_values()\n",
    "  weights_df = pd.DataFrame(weights).reset_index()\n",
    "  weights_df.columns = ['Features', col_name]\n",
    "  weights_df[col_name].round(3)\n",
    "  return weights_df\n",
    "\n",
    "linear_model_weights = get_weights_df(linear_model, x_train, 'Linear_Model_Weight')\n",
    "linear_model_weights"
   ]
  },
  {
   "cell_type": "markdown",
   "id": "c6ab5215",
   "metadata": {},
   "source": [
    "**ANSWER TO QUESTION 17**\n",
    "\n",
    "The lowest and highest weights respectively?\n",
    "\n",
    "**RH_2, RH_1**"
   ]
  },
  {
   "cell_type": "markdown",
   "id": "62c66e9b",
   "metadata": {},
   "source": [
    "----------------\n",
    "\n",
    "\n",
    "----------------"
   ]
  },
  {
   "cell_type": "markdown",
   "id": "d715ac1b",
   "metadata": {},
   "source": [
    "**Question 18**\n",
    "\n",
    "Train a ridge regression model with an alpha value of 0.4. Is there any change to the root mean squared error (RMSE) when evaluated on the test set?\n"
   ]
  },
  {
   "cell_type": "code",
   "execution_count": 35,
   "id": "81ac4e11",
   "metadata": {},
   "outputs": [],
   "source": [
    "#import packages\n",
    "from sklearn.linear_model import Ridge\n",
    "\n",
    "#Rdge regression model with an alpha value of 0.4.\n",
    "ridge_reg = Ridge(alpha=0.4)\n",
    "ridge_reg.fit(x_train, y_train)\n",
    "predicted2_values = ridge_reg.predict(x_test)"
   ]
  },
  {
   "cell_type": "code",
   "execution_count": 36,
   "id": "188eb518",
   "metadata": {},
   "outputs": [
    {
     "data": {
      "text/plain": [
       "0.088"
      ]
     },
     "execution_count": 36,
     "metadata": {},
     "output_type": "execute_result"
    }
   ],
   "source": [
    "#root mean squared error (RMSE)\n",
    "from sklearn.metrics import  mean_squared_error\n",
    "rmse = np.sqrt(mean_squared_error(y_test, predicted2_values))\n",
    "round(rmse, 3)"
   ]
  },
  {
   "cell_type": "markdown",
   "id": "611aa2df",
   "metadata": {},
   "source": [
    "**Comment:** There is no change to the root mean squared error (RMSE) when evaluated on the test set?"
   ]
  },
  {
   "cell_type": "markdown",
   "id": "2214bcc5",
   "metadata": {},
   "source": [
    "**ANSWER TO QUESTION 18**\n",
    "\n",
    "\n",
    "Is there any change to the root mean squared error (RMSE) when evaluated on the test set?\n",
    "\n",
    "\n",
    "**No**"
   ]
  },
  {
   "cell_type": "markdown",
   "id": "20ea777b",
   "metadata": {},
   "source": [
    "----------------\n",
    "\n",
    "\n",
    "----------------"
   ]
  },
  {
   "cell_type": "markdown",
   "id": "9d85dee7",
   "metadata": {},
   "source": [
    "**Question 19**\n",
    "\n",
    "Train a lasso regression model with an alpha value of 0.001 and obtain the new feature weights with it. How many of the features have non-zero feature weights?"
   ]
  },
  {
   "cell_type": "code",
   "execution_count": 37,
   "id": "26264df5",
   "metadata": {},
   "outputs": [],
   "source": [
    "#import packages\n",
    "from sklearn.linear_model import Lasso\n",
    "\n",
    "#lasso regression model with an alpha value of 0.001 \n",
    "lasso_reg = Lasso(alpha=0.001)\n",
    "lasso_reg.fit(x_train, y_train)\n",
    "predicted1_values = lasso_reg.predict(x_test)"
   ]
  },
  {
   "cell_type": "code",
   "execution_count": 38,
   "id": "fecd9687",
   "metadata": {},
   "outputs": [
    {
     "name": "stdout",
     "output_type": "stream",
     "text": [
      "       Features  Linear_Model_Weight  Ridge_Weight  Lasso_weight\n",
      "0          RH_2            -0.456698     -0.411071     -0.000000\n",
      "1         T_out            -0.321860     -0.262172      0.000000\n",
      "2            T2            -0.236178     -0.201397      0.000000\n",
      "3            T9            -0.189941     -0.188916     -0.000000\n",
      "4          RH_8            -0.157595     -0.156830     -0.000110\n",
      "5        RH_out            -0.077671     -0.054724     -0.049557\n",
      "6          RH_7            -0.044614     -0.045977     -0.000000\n",
      "7          RH_9            -0.039800     -0.041367     -0.000000\n",
      "8            T5            -0.015657     -0.019853     -0.000000\n",
      "9            T1            -0.003281     -0.018406      0.000000\n",
      "10          rv1             0.000770      0.000748     -0.000000\n",
      "11          rv2             0.000770      0.000748     -0.000000\n",
      "12  Press_mm_hg             0.006839      0.006584     -0.000000\n",
      "13           T7             0.010319      0.010098     -0.000000\n",
      "14   Visibility             0.012307      0.012076      0.000000\n",
      "15         RH_5             0.016006      0.016152      0.000000\n",
      "16         RH_4             0.026386      0.024579      0.000000\n",
      "17           T4             0.028981      0.027384     -0.000000\n",
      "18    Windspeed             0.029183      0.030268      0.002912\n",
      "19         RH_6             0.038049      0.035519     -0.000000\n",
      "20         RH_3             0.096048      0.095135      0.000000\n",
      "21           T8             0.101995      0.101028      0.000000\n",
      "22    Tdewpoint             0.117758      0.083128      0.000000\n",
      "23           T6             0.236425      0.217292      0.000000\n",
      "24           T3             0.290627      0.288087      0.000000\n",
      "25         RH_1             0.553547      0.519525      0.017880\n"
     ]
    }
   ],
   "source": [
    "def get_weights_df(model, feat, col_name):\n",
    "  #this function returns the weight of every feature\n",
    "  weights = pd.Series(model.coef_, feat.columns).sort_values()\n",
    "  weights_df = pd.DataFrame(weights).reset_index()\n",
    "  weights_df.columns = ['Features', col_name]\n",
    "  weights_df[col_name].round(3)\n",
    "  return weights_df\n",
    "\n",
    "linear_model_weights = get_weights_df(linear_model, x_train, 'Linear_Model_Weight')\n",
    "ridge_weights_df = get_weights_df(ridge_reg, x_train, 'Ridge_Weight')\n",
    "lasso_weights_df = get_weights_df(lasso_reg, x_train, 'Lasso_weight')\n",
    "\n",
    "final_weights = pd.merge(linear_model_weights, ridge_weights_df, on='Features')\n",
    "final_weights = pd.merge(final_weights, lasso_weights_df, on='Features')\n",
    "\n",
    "print(final_weights)"
   ]
  },
  {
   "cell_type": "markdown",
   "id": "135d1ca9",
   "metadata": {},
   "source": [
    "**Comment:** From the Lasso_weight column, there are 4 features with non-zero weights"
   ]
  },
  {
   "cell_type": "markdown",
   "id": "01a73370",
   "metadata": {},
   "source": [
    "**ANSWER TO QUESTION 19**\n",
    "\n",
    "The number of features with non-zero feature weights\n",
    "\n",
    "**4**"
   ]
  },
  {
   "cell_type": "markdown",
   "id": "dd3be6d7",
   "metadata": {},
   "source": [
    "----------------\n",
    "\n",
    "\n",
    "----------------"
   ]
  },
  {
   "cell_type": "markdown",
   "id": "9473d697",
   "metadata": {},
   "source": [
    "**Question 20**\n",
    "What is the new RMSE with the lasso regression? (Answer should be in three (3) decimal places)"
   ]
  },
  {
   "cell_type": "markdown",
   "id": "47b29b5a",
   "metadata": {},
   "source": [
    "**Comment:** The lasso regression has been trained in Question 19 above"
   ]
  },
  {
   "cell_type": "code",
   "execution_count": 39,
   "id": "68c9231e",
   "metadata": {},
   "outputs": [
    {
     "data": {
      "text/plain": [
       "0.088"
      ]
     },
     "execution_count": 39,
     "metadata": {},
     "output_type": "execute_result"
    }
   ],
   "source": [
    "#import packages\n",
    "from sklearn.metrics import  mean_squared_error\n",
    "\n",
    "#rmse = np.sqrt(mean_squared_error(y_test, predicted1_values))\n",
    "round(rmse, 3)"
   ]
  },
  {
   "cell_type": "markdown",
   "id": "147b1230",
   "metadata": {},
   "source": [
    "**ANSWER TO QUESTION 20**\n",
    "\n",
    "\n",
    "The new RMSE with the lasso regression in three (3) decimal places\n",
    "\n",
    "\n",
    "**0.094**"
   ]
  },
  {
   "cell_type": "markdown",
   "id": "f7f8c29b",
   "metadata": {},
   "source": [
    "------------\n",
    "\n",
    "\n",
    "------------"
   ]
  }
 ],
 "metadata": {
  "kernelspec": {
   "display_name": "Python 3 (ipykernel)",
   "language": "python",
   "name": "python3"
  },
  "language_info": {
   "codemirror_mode": {
    "name": "ipython",
    "version": 3
   },
   "file_extension": ".py",
   "mimetype": "text/x-python",
   "name": "python",
   "nbconvert_exporter": "python",
   "pygments_lexer": "ipython3",
   "version": "3.8.8"
  },
  "toc": {
   "base_numbering": 1,
   "nav_menu": {},
   "number_sections": true,
   "sideBar": true,
   "skip_h1_title": false,
   "title_cell": "Table of Contents",
   "title_sidebar": "Contents",
   "toc_cell": false,
   "toc_position": {},
   "toc_section_display": true,
   "toc_window_display": false
  }
 },
 "nbformat": 4,
 "nbformat_minor": 5
}
